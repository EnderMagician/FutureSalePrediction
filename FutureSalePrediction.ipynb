{
 "cells": [
  {
   "cell_type": "markdown",
   "metadata": {},
   "source": [
    "# Kaggle \"Predict Future Sales\" Competition\n",
    "### 1. Problem Definition:\n",
    "- Goal: Predict total sales for every product and store in the following month."
   ]
  },
  {
   "cell_type": "markdown",
   "metadata": {},
   "source": [
    "### 2. Data Exploration:"
   ]
  },
  {
   "cell_type": "code",
   "execution_count": null,
   "metadata": {},
   "outputs": [],
   "source": [
    "#Import Libraries\n",
    "import numpy as np\n",
    "import pandas as pd\n",
    "import matplotlib.pyplot as plt\n",
    "plt.style.use('ggplot')\n",
    "%matplotlib inline\n",
    "import seaborn as sns\n",
    "import sklearn as skl\n",
    "from IPython.display import Markdown"
   ]
  },
  {
   "cell_type": "code",
   "execution_count": 37,
   "metadata": {},
   "outputs": [
    {
     "data": {
      "text/plain": [
       "'This is Dataset Description, provided by Kaggle'"
      ]
     },
     "metadata": {},
     "output_type": "display_data"
    },
    {
     "data": {
      "text/markdown": [
       "[Dataset Description](Dataset/DatasetDescription)"
      ],
      "text/plain": [
       "<IPython.core.display.Markdown object>"
      ]
     },
     "metadata": {},
     "output_type": "display_data"
    }
   ],
   "source": [
    "#Read Data Sets\n",
    "path = 'Dataset/'\n",
    "\n",
    "DataDescription = Markdown(f\"[Dataset Description]({path}DatasetDescription)\")\n",
    "display(\"This is Dataset Description, provided by Kaggle\")\n",
    "display(DataDescription)\n",
    "\n",
    "itemCategories  = pd.read_csv(path + 'item_categories.csv', index_col = 'item_category_id')\n",
    "items           = pd.read_csv(path + 'items.csv', index_col = 'item_id')\n",
    "salesTrain      = pd.read_csv(path + 'sales_train.csv')\n",
    "shops           = pd.read_csv(path + 'shops.csv', index_col = 'shop_id')"
   ]
  },
  {
   "cell_type": "markdown",
   "metadata": {},
   "source": [
    "Let's first have a look at the data sets:"
   ]
  },
  {
   "cell_type": "code",
   "execution_count": 12,
   "metadata": {},
   "outputs": [
    {
     "data": {
      "text/html": [
       "<div>\n",
       "<style scoped>\n",
       "    .dataframe tbody tr th:only-of-type {\n",
       "        vertical-align: middle;\n",
       "    }\n",
       "\n",
       "    .dataframe tbody tr th {\n",
       "        vertical-align: top;\n",
       "    }\n",
       "\n",
       "    .dataframe thead th {\n",
       "        text-align: right;\n",
       "    }\n",
       "</style>\n",
       "<table border=\"1\" class=\"dataframe\">\n",
       "  <thead>\n",
       "    <tr style=\"text-align: right;\">\n",
       "      <th></th>\n",
       "      <th>item_category_name</th>\n",
       "    </tr>\n",
       "    <tr>\n",
       "      <th>item_category_id</th>\n",
       "      <th></th>\n",
       "    </tr>\n",
       "  </thead>\n",
       "  <tbody>\n",
       "    <tr>\n",
       "      <th>0</th>\n",
       "      <td>PC - Гарнитуры/Наушники</td>\n",
       "    </tr>\n",
       "    <tr>\n",
       "      <th>1</th>\n",
       "      <td>Аксессуары - PS2</td>\n",
       "    </tr>\n",
       "    <tr>\n",
       "      <th>2</th>\n",
       "      <td>Аксессуары - PS3</td>\n",
       "    </tr>\n",
       "    <tr>\n",
       "      <th>3</th>\n",
       "      <td>Аксессуары - PS4</td>\n",
       "    </tr>\n",
       "    <tr>\n",
       "      <th>4</th>\n",
       "      <td>Аксессуары - PSP</td>\n",
       "    </tr>\n",
       "  </tbody>\n",
       "</table>\n",
       "</div>"
      ],
      "text/plain": [
       "                       item_category_name\n",
       "item_category_id                         \n",
       "0                 PC - Гарнитуры/Наушники\n",
       "1                        Аксессуары - PS2\n",
       "2                        Аксессуары - PS3\n",
       "3                        Аксессуары - PS4\n",
       "4                        Аксессуары - PSP"
      ]
     },
     "metadata": {},
     "output_type": "display_data"
    },
    {
     "data": {
      "text/html": [
       "<div>\n",
       "<style scoped>\n",
       "    .dataframe tbody tr th:only-of-type {\n",
       "        vertical-align: middle;\n",
       "    }\n",
       "\n",
       "    .dataframe tbody tr th {\n",
       "        vertical-align: top;\n",
       "    }\n",
       "\n",
       "    .dataframe thead th {\n",
       "        text-align: right;\n",
       "    }\n",
       "</style>\n",
       "<table border=\"1\" class=\"dataframe\">\n",
       "  <thead>\n",
       "    <tr style=\"text-align: right;\">\n",
       "      <th></th>\n",
       "      <th>item_name</th>\n",
       "      <th>item_category_id</th>\n",
       "    </tr>\n",
       "    <tr>\n",
       "      <th>item_id</th>\n",
       "      <th></th>\n",
       "      <th></th>\n",
       "    </tr>\n",
       "  </thead>\n",
       "  <tbody>\n",
       "    <tr>\n",
       "      <th>0</th>\n",
       "      <td>! ВО ВЛАСТИ НАВАЖДЕНИЯ (ПЛАСТ.)         D</td>\n",
       "      <td>40</td>\n",
       "    </tr>\n",
       "    <tr>\n",
       "      <th>1</th>\n",
       "      <td>!ABBYY FineReader 12 Professional Edition Full...</td>\n",
       "      <td>76</td>\n",
       "    </tr>\n",
       "    <tr>\n",
       "      <th>2</th>\n",
       "      <td>***В ЛУЧАХ СЛАВЫ   (UNV)                    D</td>\n",
       "      <td>40</td>\n",
       "    </tr>\n",
       "    <tr>\n",
       "      <th>3</th>\n",
       "      <td>***ГОЛУБАЯ ВОЛНА  (Univ)                      D</td>\n",
       "      <td>40</td>\n",
       "    </tr>\n",
       "    <tr>\n",
       "      <th>4</th>\n",
       "      <td>***КОРОБКА (СТЕКЛО)                       D</td>\n",
       "      <td>40</td>\n",
       "    </tr>\n",
       "  </tbody>\n",
       "</table>\n",
       "</div>"
      ],
      "text/plain": [
       "                                                 item_name  item_category_id\n",
       "item_id                                                                     \n",
       "0                ! ВО ВЛАСТИ НАВАЖДЕНИЯ (ПЛАСТ.)         D                40\n",
       "1        !ABBYY FineReader 12 Professional Edition Full...                76\n",
       "2            ***В ЛУЧАХ СЛАВЫ   (UNV)                    D                40\n",
       "3          ***ГОЛУБАЯ ВОЛНА  (Univ)                      D                40\n",
       "4              ***КОРОБКА (СТЕКЛО)                       D                40"
      ]
     },
     "metadata": {},
     "output_type": "display_data"
    },
    {
     "data": {
      "text/html": [
       "<div>\n",
       "<style scoped>\n",
       "    .dataframe tbody tr th:only-of-type {\n",
       "        vertical-align: middle;\n",
       "    }\n",
       "\n",
       "    .dataframe tbody tr th {\n",
       "        vertical-align: top;\n",
       "    }\n",
       "\n",
       "    .dataframe thead th {\n",
       "        text-align: right;\n",
       "    }\n",
       "</style>\n",
       "<table border=\"1\" class=\"dataframe\">\n",
       "  <thead>\n",
       "    <tr style=\"text-align: right;\">\n",
       "      <th></th>\n",
       "      <th>date</th>\n",
       "      <th>date_block_num</th>\n",
       "      <th>shop_id</th>\n",
       "      <th>item_id</th>\n",
       "      <th>item_price</th>\n",
       "      <th>item_cnt_day</th>\n",
       "    </tr>\n",
       "  </thead>\n",
       "  <tbody>\n",
       "    <tr>\n",
       "      <th>0</th>\n",
       "      <td>02.01.2013</td>\n",
       "      <td>0</td>\n",
       "      <td>59</td>\n",
       "      <td>22154</td>\n",
       "      <td>999.00</td>\n",
       "      <td>1.0</td>\n",
       "    </tr>\n",
       "    <tr>\n",
       "      <th>1</th>\n",
       "      <td>03.01.2013</td>\n",
       "      <td>0</td>\n",
       "      <td>25</td>\n",
       "      <td>2552</td>\n",
       "      <td>899.00</td>\n",
       "      <td>1.0</td>\n",
       "    </tr>\n",
       "    <tr>\n",
       "      <th>2</th>\n",
       "      <td>05.01.2013</td>\n",
       "      <td>0</td>\n",
       "      <td>25</td>\n",
       "      <td>2552</td>\n",
       "      <td>899.00</td>\n",
       "      <td>-1.0</td>\n",
       "    </tr>\n",
       "    <tr>\n",
       "      <th>3</th>\n",
       "      <td>06.01.2013</td>\n",
       "      <td>0</td>\n",
       "      <td>25</td>\n",
       "      <td>2554</td>\n",
       "      <td>1709.05</td>\n",
       "      <td>1.0</td>\n",
       "    </tr>\n",
       "    <tr>\n",
       "      <th>4</th>\n",
       "      <td>15.01.2013</td>\n",
       "      <td>0</td>\n",
       "      <td>25</td>\n",
       "      <td>2555</td>\n",
       "      <td>1099.00</td>\n",
       "      <td>1.0</td>\n",
       "    </tr>\n",
       "  </tbody>\n",
       "</table>\n",
       "</div>"
      ],
      "text/plain": [
       "         date  date_block_num  shop_id  item_id  item_price  item_cnt_day\n",
       "0  02.01.2013               0       59    22154      999.00           1.0\n",
       "1  03.01.2013               0       25     2552      899.00           1.0\n",
       "2  05.01.2013               0       25     2552      899.00          -1.0\n",
       "3  06.01.2013               0       25     2554     1709.05           1.0\n",
       "4  15.01.2013               0       25     2555     1099.00           1.0"
      ]
     },
     "metadata": {},
     "output_type": "display_data"
    },
    {
     "data": {
      "text/html": [
       "<div>\n",
       "<style scoped>\n",
       "    .dataframe tbody tr th:only-of-type {\n",
       "        vertical-align: middle;\n",
       "    }\n",
       "\n",
       "    .dataframe tbody tr th {\n",
       "        vertical-align: top;\n",
       "    }\n",
       "\n",
       "    .dataframe thead th {\n",
       "        text-align: right;\n",
       "    }\n",
       "</style>\n",
       "<table border=\"1\" class=\"dataframe\">\n",
       "  <thead>\n",
       "    <tr style=\"text-align: right;\">\n",
       "      <th></th>\n",
       "      <th>shop_name</th>\n",
       "    </tr>\n",
       "    <tr>\n",
       "      <th>shop_id</th>\n",
       "      <th></th>\n",
       "    </tr>\n",
       "  </thead>\n",
       "  <tbody>\n",
       "    <tr>\n",
       "      <th>0</th>\n",
       "      <td>!Якутск Орджоникидзе, 56 фран</td>\n",
       "    </tr>\n",
       "    <tr>\n",
       "      <th>1</th>\n",
       "      <td>!Якутск ТЦ \"Центральный\" фран</td>\n",
       "    </tr>\n",
       "    <tr>\n",
       "      <th>2</th>\n",
       "      <td>Адыгея ТЦ \"Мега\"</td>\n",
       "    </tr>\n",
       "    <tr>\n",
       "      <th>3</th>\n",
       "      <td>Балашиха ТРК \"Октябрь-Киномир\"</td>\n",
       "    </tr>\n",
       "    <tr>\n",
       "      <th>4</th>\n",
       "      <td>Волжский ТЦ \"Волга Молл\"</td>\n",
       "    </tr>\n",
       "  </tbody>\n",
       "</table>\n",
       "</div>"
      ],
      "text/plain": [
       "                              shop_name\n",
       "shop_id                                \n",
       "0         !Якутск Орджоникидзе, 56 фран\n",
       "1         !Якутск ТЦ \"Центральный\" фран\n",
       "2                      Адыгея ТЦ \"Мега\"\n",
       "3        Балашиха ТРК \"Октябрь-Киномир\"\n",
       "4              Волжский ТЦ \"Волга Молл\""
      ]
     },
     "metadata": {},
     "output_type": "display_data"
    }
   ],
   "source": [
    "display(itemCategories.head())\n",
    "display(items.head())\n",
    "display(salesTrain.head())\n",
    "display(shops.head())"
   ]
  },
  {
   "cell_type": "markdown",
   "metadata": {},
   "source": [
    "We will examine salesTrain Dataset."
   ]
  },
  {
   "cell_type": "markdown",
   "metadata": {},
   "source": [
    "Starting with date_block_num column to see if there are any possible missing values. "
   ]
  },
  {
   "cell_type": "code",
   "execution_count": 24,
   "metadata": {},
   "outputs": [
    {
     "data": {
      "text/html": [
       "<style type=\"text/css\">\n",
       "</style>\n",
       "<table id=\"T_4a2d3\">\n",
       "  <thead>\n",
       "    <tr>\n",
       "      <th id=\"T_4a2d3_level0_col0\" class=\"col_heading level0 col0\" >Value</th>\n",
       "      <th id=\"T_4a2d3_level0_col1\" class=\"col_heading level0 col1\" >Count</th>\n",
       "    </tr>\n",
       "  </thead>\n",
       "  <tbody>\n",
       "    <tr>\n",
       "      <td id=\"T_4a2d3_row0_col0\" class=\"data row0 col0\" >11</td>\n",
       "      <td id=\"T_4a2d3_row0_col1\" class=\"data row0 col1\" >143246</td>\n",
       "    </tr>\n",
       "    <tr>\n",
       "      <td id=\"T_4a2d3_row1_col0\" class=\"data row1 col0\" >23</td>\n",
       "      <td id=\"T_4a2d3_row1_col1\" class=\"data row1 col1\" >130786</td>\n",
       "    </tr>\n",
       "    <tr>\n",
       "      <td id=\"T_4a2d3_row2_col0\" class=\"data row2 col0\" >2</td>\n",
       "      <td id=\"T_4a2d3_row2_col1\" class=\"data row2 col1\" >121347</td>\n",
       "    </tr>\n",
       "    <tr>\n",
       "      <td id=\"T_4a2d3_row3_col0\" class=\"data row3 col0\" >0</td>\n",
       "      <td id=\"T_4a2d3_row3_col1\" class=\"data row3 col1\" >115690</td>\n",
       "    </tr>\n",
       "    <tr>\n",
       "      <td id=\"T_4a2d3_row4_col0\" class=\"data row4 col0\" >1</td>\n",
       "      <td id=\"T_4a2d3_row4_col1\" class=\"data row4 col1\" >108613</td>\n",
       "    </tr>\n",
       "    <tr>\n",
       "      <td id=\"T_4a2d3_row5_col0\" class=\"data row5 col0\" >7</td>\n",
       "      <td id=\"T_4a2d3_row5_col1\" class=\"data row5 col1\" >104772</td>\n",
       "    </tr>\n",
       "    <tr>\n",
       "      <td id=\"T_4a2d3_row6_col0\" class=\"data row6 col0\" >6</td>\n",
       "      <td id=\"T_4a2d3_row6_col1\" class=\"data row6 col1\" >100548</td>\n",
       "    </tr>\n",
       "    <tr>\n",
       "      <td id=\"T_4a2d3_row7_col0\" class=\"data row7 col0\" >5</td>\n",
       "      <td id=\"T_4a2d3_row7_col1\" class=\"data row7 col1\" >100403</td>\n",
       "    </tr>\n",
       "    <tr>\n",
       "      <td id=\"T_4a2d3_row8_col0\" class=\"data row8 col0\" >12</td>\n",
       "      <td id=\"T_4a2d3_row8_col1\" class=\"data row8 col1\" >99349</td>\n",
       "    </tr>\n",
       "    <tr>\n",
       "      <td id=\"T_4a2d3_row9_col0\" class=\"data row9 col0\" >10</td>\n",
       "      <td id=\"T_4a2d3_row9_col1\" class=\"data row9 col1\" >96736</td>\n",
       "    </tr>\n",
       "    <tr>\n",
       "      <td id=\"T_4a2d3_row10_col0\" class=\"data row10 col0\" >8</td>\n",
       "      <td id=\"T_4a2d3_row10_col1\" class=\"data row10 col1\" >96137</td>\n",
       "    </tr>\n",
       "    <tr>\n",
       "      <td id=\"T_4a2d3_row11_col0\" class=\"data row11 col0\" >9</td>\n",
       "      <td id=\"T_4a2d3_row11_col1\" class=\"data row11 col1\" >94202</td>\n",
       "    </tr>\n",
       "    <tr>\n",
       "      <td id=\"T_4a2d3_row12_col0\" class=\"data row12 col0\" >3</td>\n",
       "      <td id=\"T_4a2d3_row12_col1\" class=\"data row12 col1\" >94109</td>\n",
       "    </tr>\n",
       "    <tr>\n",
       "      <td id=\"T_4a2d3_row13_col0\" class=\"data row13 col0\" >14</td>\n",
       "      <td id=\"T_4a2d3_row13_col1\" class=\"data row13 col1\" >92733</td>\n",
       "    </tr>\n",
       "    <tr>\n",
       "      <td id=\"T_4a2d3_row14_col0\" class=\"data row14 col0\" >4</td>\n",
       "      <td id=\"T_4a2d3_row14_col1\" class=\"data row14 col1\" >91759</td>\n",
       "    </tr>\n",
       "    <tr>\n",
       "      <td id=\"T_4a2d3_row15_col0\" class=\"data row15 col0\" >13</td>\n",
       "      <td id=\"T_4a2d3_row15_col1\" class=\"data row15 col1\" >89830</td>\n",
       "    </tr>\n",
       "    <tr>\n",
       "      <td id=\"T_4a2d3_row16_col0\" class=\"data row16 col0\" >24</td>\n",
       "      <td id=\"T_4a2d3_row16_col1\" class=\"data row16 col1\" >88522</td>\n",
       "    </tr>\n",
       "    <tr>\n",
       "      <td id=\"T_4a2d3_row17_col0\" class=\"data row17 col0\" >19</td>\n",
       "      <td id=\"T_4a2d3_row17_col1\" class=\"data row17 col1\" >86614</td>\n",
       "    </tr>\n",
       "    <tr>\n",
       "      <td id=\"T_4a2d3_row18_col0\" class=\"data row18 col0\" >22</td>\n",
       "      <td id=\"T_4a2d3_row18_col1\" class=\"data row18 col1\" >86428</td>\n",
       "    </tr>\n",
       "    <tr>\n",
       "      <td id=\"T_4a2d3_row19_col0\" class=\"data row19 col0\" >17</td>\n",
       "      <td id=\"T_4a2d3_row19_col1\" class=\"data row19 col1\" >82408</td>\n",
       "    </tr>\n",
       "    <tr>\n",
       "      <td id=\"T_4a2d3_row20_col0\" class=\"data row20 col0\" >21</td>\n",
       "      <td id=\"T_4a2d3_row20_col1\" class=\"data row20 col1\" >79361</td>\n",
       "    </tr>\n",
       "    <tr>\n",
       "      <td id=\"T_4a2d3_row21_col0\" class=\"data row21 col0\" >18</td>\n",
       "      <td id=\"T_4a2d3_row21_col1\" class=\"data row21 col1\" >78760</td>\n",
       "    </tr>\n",
       "    <tr>\n",
       "      <td id=\"T_4a2d3_row22_col0\" class=\"data row22 col0\" >16</td>\n",
       "      <td id=\"T_4a2d3_row22_col1\" class=\"data row22 col1\" >78529</td>\n",
       "    </tr>\n",
       "    <tr>\n",
       "      <td id=\"T_4a2d3_row23_col0\" class=\"data row23 col0\" >15</td>\n",
       "      <td id=\"T_4a2d3_row23_col1\" class=\"data row23 col1\" >77906</td>\n",
       "    </tr>\n",
       "    <tr>\n",
       "      <td id=\"T_4a2d3_row24_col0\" class=\"data row24 col0\" >20</td>\n",
       "      <td id=\"T_4a2d3_row24_col1\" class=\"data row24 col1\" >73157</td>\n",
       "    </tr>\n",
       "    <tr>\n",
       "      <td id=\"T_4a2d3_row25_col0\" class=\"data row25 col0\" >25</td>\n",
       "      <td id=\"T_4a2d3_row25_col1\" class=\"data row25 col1\" >71808</td>\n",
       "    </tr>\n",
       "    <tr>\n",
       "      <td id=\"T_4a2d3_row26_col0\" class=\"data row26 col0\" >26</td>\n",
       "      <td id=\"T_4a2d3_row26_col1\" class=\"data row26 col1\" >69977</td>\n",
       "    </tr>\n",
       "    <tr>\n",
       "      <td id=\"T_4a2d3_row27_col0\" class=\"data row27 col0\" >31</td>\n",
       "      <td id=\"T_4a2d3_row27_col1\" class=\"data row27 col1\" >57029</td>\n",
       "    </tr>\n",
       "    <tr>\n",
       "      <td id=\"T_4a2d3_row28_col0\" class=\"data row28 col0\" >27</td>\n",
       "      <td id=\"T_4a2d3_row28_col1\" class=\"data row28 col1\" >56274</td>\n",
       "    </tr>\n",
       "    <tr>\n",
       "      <td id=\"T_4a2d3_row29_col0\" class=\"data row29 col0\" >30</td>\n",
       "      <td id=\"T_4a2d3_row29_col1\" class=\"data row29 col1\" >55549</td>\n",
       "    </tr>\n",
       "    <tr>\n",
       "      <td id=\"T_4a2d3_row30_col0\" class=\"data row30 col0\" >29</td>\n",
       "      <td id=\"T_4a2d3_row30_col1\" class=\"data row30 col1\" >54617</td>\n",
       "    </tr>\n",
       "    <tr>\n",
       "      <td id=\"T_4a2d3_row31_col0\" class=\"data row31 col0\" >28</td>\n",
       "      <td id=\"T_4a2d3_row31_col1\" class=\"data row31 col1\" >54548</td>\n",
       "    </tr>\n",
       "    <tr>\n",
       "      <td id=\"T_4a2d3_row32_col0\" class=\"data row32 col0\" >33</td>\n",
       "      <td id=\"T_4a2d3_row32_col1\" class=\"data row32 col1\" >53514</td>\n",
       "    </tr>\n",
       "    <tr>\n",
       "      <td id=\"T_4a2d3_row33_col0\" class=\"data row33 col0\" >32</td>\n",
       "      <td id=\"T_4a2d3_row33_col1\" class=\"data row33 col1\" >50588</td>\n",
       "    </tr>\n",
       "  </tbody>\n",
       "</table>\n"
      ],
      "text/plain": [
       "<pandas.io.formats.style.Styler at 0x12185ab6b10>"
      ]
     },
     "metadata": {},
     "output_type": "display_data"
    }
   ],
   "source": [
    "# Getting value count from date_block_num coulmn and converting it into a Dataframe\n",
    "date_block_num_valueCount = salesTrain['date_block_num'].value_counts().reset_index()\n",
    "\n",
    "# Rename columns for clarity\n",
    "date_block_num_valueCount.columns = ['Value', 'Count']\n",
    "\n",
    "# Display DataFrame without index column\n",
    "display(date_block_num_valueCount.style.hide(axis = 'index'))"
   ]
  },
  {
   "cell_type": "code",
   "execution_count": null,
   "metadata": {},
   "outputs": [],
   "source": []
  },
  {
   "cell_type": "markdown",
   "metadata": {},
   "source": [
    "### 3. Data Preprocessing:"
   ]
  },
  {
   "cell_type": "markdown",
   "metadata": {},
   "source": [
    "### 4. Model Selection:"
   ]
  },
  {
   "cell_type": "markdown",
   "metadata": {},
   "source": [
    "\n",
    "### 5. Feature Engineering:"
   ]
  },
  {
   "cell_type": "markdown",
   "metadata": {},
   "source": [
    "### 6. Model Training:"
   ]
  },
  {
   "cell_type": "markdown",
   "metadata": {},
   "source": [
    "### 7. Model Evaluation:"
   ]
  },
  {
   "cell_type": "markdown",
   "metadata": {},
   "source": [
    "### 8. Submission:"
   ]
  }
 ],
 "metadata": {
  "kernelspec": {
   "display_name": "Python 3",
   "language": "python",
   "name": "python3"
  },
  "language_info": {
   "codemirror_mode": {
    "name": "ipython",
    "version": 3
   },
   "file_extension": ".py",
   "mimetype": "text/x-python",
   "name": "python",
   "nbconvert_exporter": "python",
   "pygments_lexer": "ipython3",
   "version": "3.13.2"
  }
 },
 "nbformat": 4,
 "nbformat_minor": 2
}
